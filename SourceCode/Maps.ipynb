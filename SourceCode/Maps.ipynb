{
 "cells": [
  {
   "cell_type": "code",
   "execution_count": 1,
   "metadata": {},
   "outputs": [
    {
     "ename": "ModuleNotFoundError",
     "evalue": "No module named 'plotly'",
     "output_type": "error",
     "traceback": [
      "\u001b[0;31m---------------------------------------------------------------------------\u001b[0m",
      "\u001b[0;31mModuleNotFoundError\u001b[0m                       Traceback (most recent call last)",
      "\u001b[0;32m<ipython-input-1-55abd36d1358>\u001b[0m in \u001b[0;36m<module>\u001b[0;34m()\u001b[0m\n\u001b[1;32m      1\u001b[0m \u001b[0;31m# Dependencies\u001b[0m\u001b[0;34m\u001b[0m\u001b[0;34m\u001b[0m\u001b[0m\n\u001b[0;32m----> 2\u001b[0;31m \u001b[0;32mimport\u001b[0m \u001b[0mplotly\u001b[0m\u001b[0;34m.\u001b[0m\u001b[0mplotly\u001b[0m \u001b[0;32mas\u001b[0m \u001b[0mpy\u001b[0m\u001b[0;34m\u001b[0m\u001b[0m\n\u001b[0m\u001b[1;32m      3\u001b[0m \u001b[0;32mfrom\u001b[0m \u001b[0mplotly\u001b[0m\u001b[0;34m.\u001b[0m\u001b[0mgraph_objs\u001b[0m \u001b[0;32mimport\u001b[0m \u001b[0;34m*\u001b[0m\u001b[0;34m\u001b[0m\u001b[0m\n\u001b[1;32m      4\u001b[0m \u001b[0;32mimport\u001b[0m \u001b[0mpandas\u001b[0m \u001b[0;32mas\u001b[0m \u001b[0mpd\u001b[0m\u001b[0;34m\u001b[0m\u001b[0m\n\u001b[1;32m      5\u001b[0m \u001b[0;32mfrom\u001b[0m \u001b[0mipywidgets\u001b[0m \u001b[0;32mimport\u001b[0m \u001b[0mwidgets\u001b[0m\u001b[0;34m\u001b[0m\u001b[0m\n",
      "\u001b[0;31mModuleNotFoundError\u001b[0m: No module named 'plotly'"
     ]
    }
   ],
   "source": [
    "# Dependencies\n",
    "import plotly.plotly as py\n",
    "from plotly.graph_objs import *\n",
    "import pandas as pd \n",
    "from ipywidgets import widgets\n",
    "import numpy as np\n",
    "py.sign_in(\"AiyanaLiz\",\"Z6MKsOREXRbRxXfILtoe\")\n",
    "import os"
   ]
  },
  {
   "cell_type": "code",
   "execution_count": 3,
   "metadata": {
    "scrolled": true
   },
   "outputs": [
    {
     "name": "stdout",
     "output_type": "stream",
     "text": [
      "Completed MentalHealth2012.csv\n",
      "Completed MentalHealth2013.csv\n",
      "Completed MentalHealth2014.csv\n",
      "Completed MentalHealth2015.csv\n",
      "Completed MentalHealth2016.csv\n"
     ]
    }
   ],
   "source": [
    "# Read all the csv files to a dictionary for ease of use\n",
    "# Storing the years as a list\n",
    "year_list=[\"2012\",\"2013\",\"2014\",\"2015\",\"2016\"]\n",
    "\n",
    "# File name\n",
    "file_names=\"MentalHealth\"\n",
    "# Create Empty dictionary to store the key as the year and the value as DF\n",
    "All_DF={}\n",
    "\n",
    "# For each year in the list\n",
    "for years in year_list:\n",
    "    # Create the filename and filepath where the data exists\n",
    "    filename=file_names+years+\".csv\"\n",
    "    outputfilepath=os.path.join(\"..\",\"raw_data\",\"output\",filename)\n",
    "    \n",
    "    # Read the DF and store into dictionary\n",
    "    All_DF[years]=pd.read_csv(outputfilepath,low_memory=False)\n",
    "    \n",
    "    print(\"Completed %s\"%filename)"
   ]
  },
  {
   "cell_type": "code",
   "execution_count": 9,
   "metadata": {},
   "outputs": [
    {
     "data": {
      "text/html": [
       "<iframe id=\"igraph\" scrolling=\"no\" style=\"border:none;\" seamless=\"seamless\" src=\"https://plot.ly/~AiyanaLiz/40.embed\" height=\"525px\" width=\"100%\"></iframe>"
      ],
      "text/plain": [
       "<plotly.tools.PlotlyDisplay object>"
      ]
     },
     "execution_count": 9,
     "metadata": {},
     "output_type": "execute_result"
    }
   ],
   "source": [
    "# The year for which the Choropleth has to be generated\n",
    "year=name(\"Which Year would you like to generate the Choropleth for(2012-2016)?\")\n",
    "\n",
    "# Extracting only rows with Calculate Variable > 40\n",
    "All_DF[year]=All_DF[year][All_DF[year]['Calc_MentalHealth_Value']>40]\n",
    "\n",
    "# Creating a pivot table to get the count of people having Mental Health Issue based on the State\n",
    "NDF=All_DF[year].pivot_table(index=\"State\", values=\"Calc_MentalHealth_Value\",aggfunc=\"count\")\n",
    "\n",
    "# Specifiying the various parameters for the trace \n",
    "trace1 = {\n",
    "          \"z\": NDF[\"Calc_MentalHealth_Value\"],\n",
    "          \"colorbar\": {\n",
    "                        \"lenmode\": \"pixels\", \n",
    "                        \"title\": \"Population\", \n",
    "                        \"titleside\": \"right\", \n",
    "                        \"xpad\": 0, \n",
    "                        \"ypad\": 0\n",
    "                      },\n",
    "          \"colorscale\": [\n",
    "              [0, \"#D4FFCA\"], \n",
    "              [0.111111111111, \"#C9F2C0\"], \n",
    "              [0.222222222222, \"#AFD6A6\"], \n",
    "              [0.333333333333, \"#92B08B\"], \n",
    "              [0.444444444444, \"#6F9267\"], \n",
    "              [0.555555555556, \"#4F7E44\"], \n",
    "              [0.666666666667, \"#396D2D\"], \n",
    "              [0.777777777778, \"#235418\"], \n",
    "              [0.888888888889, \"#0B2B04\"], \n",
    "              [1, \"#030F00\"]], \n",
    "          \"locationmode\": \"USA-states\", \n",
    "          \"locations\": NDF.index.values, \n",
    "          \"marker\": {\"line\": {\n",
    "              \"color\": \"rgba(255,255,255,1)\", \n",
    "              \"width\": 1\n",
    "                    }}, \n",
    "          \"type\": \"choropleth\"\n",
    "        }\n",
    "data = Data([trace1])\n",
    "# Specifying the layout of the title,font, etc.\n",
    "layout = {\n",
    "          \"font\": {\n",
    "                    \"color\": \"rgb(9, 19, 60)\", \n",
    "                    \"family\": \"Times New Roman\", \n",
    "                    \"size\": 15\n",
    "                  }, \n",
    "          \"geo\":  {\n",
    "            \"projection\": {\"scale\": 0.870550563296}, \n",
    "            \"scope\": \"usa\"\n",
    "                  }, \n",
    "          \"title\": \"<b>Mental Health Issues across US for %s</b>\"%year, \n",
    "          \"titlefont\": {\n",
    "                        \"color\": \"rgb(28, 13, 92)\", \n",
    "                        \"family\": \"Times New Roman\", \n",
    "                        \"size\": 20\n",
    "                      }\n",
    "        }\n",
    "# Generating the figure \n",
    "fig = Figure(data=data, layout=layout)\n",
    "\n",
    "# Plotting the figure\n",
    "py.iplot(fig,filename=\"Mental Health Issues across US for %s\"%year)\n",
    "\n"
   ]
  },
  {
   "cell_type": "code",
   "execution_count": 20,
   "metadata": {},
   "outputs": [
    {
     "data": {
      "text/html": [
       "print(\"Mental Health Issues across US for 2012:\"<a href=\"https://plot.ly/~AiyanaLiz/32.embed\">link</a>\n",
       "<a href=\"https://plot.ly/~AiyanaLiz/34.embed\">link</a>\n",
       "<a href=\"https://plot.ly/~AiyanaLiz/36.embed\">link</a>\n",
       "<a href=\"https://plot.ly/~AiyanaLiz/38.embed\">link</a>\n",
       "<a href=\"https://plot.ly/~AiyanaLiz/40.embed\">link</a>"
      ],
      "text/plain": [
       "<IPython.core.display.HTML object>"
      ]
     },
     "metadata": {},
     "output_type": "display_data"
    }
   ],
   "source": [
    "%%html\n",
    "<a href=\"https://plot.ly/~AiyanaLiz/32.embed\">link</a>\n",
    "<a href=\"https://plot.ly/~AiyanaLiz/34.embed\">link</a>\n",
    "<a href=\"https://plot.ly/~AiyanaLiz/36.embed\">link</a>\n",
    "<a href=\"https://plot.ly/~AiyanaLiz/38.embed\">link</a>\n",
    "<a href=\"https://plot.ly/~AiyanaLiz/40.embed\">link</a>"
   ]
  }
 ],
 "metadata": {
  "kernelspec": {
   "display_name": "Python 3",
   "language": "python",
   "name": "python3"
  },
  "language_info": {
   "codemirror_mode": {
    "name": "ipython",
    "version": 3
   },
   "file_extension": ".py",
   "mimetype": "text/x-python",
   "name": "python",
   "nbconvert_exporter": "python",
   "pygments_lexer": "ipython3",
   "version": "3.6.2"
  }
 },
 "nbformat": 4,
 "nbformat_minor": 2
}
